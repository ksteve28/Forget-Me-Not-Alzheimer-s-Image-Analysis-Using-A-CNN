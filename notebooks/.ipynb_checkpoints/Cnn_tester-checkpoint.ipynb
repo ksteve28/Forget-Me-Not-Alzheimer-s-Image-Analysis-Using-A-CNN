{
 "cells": [
  {
   "cell_type": "code",
   "execution_count": 1,
   "metadata": {},
   "outputs": [],
   "source": [
    "import os\n",
    "import numpy as np\n",
    "import pandas as pd\n",
    "import tensorflow as tf\n",
    "from tensorflow.keras import datasets, layers, models\n",
    "import matplotlib.pyplot as plt\n",
    "AUTOTUNE = tf.data.experimental.AUTOTUNE \n"
   ]
  },
  {
   "cell_type": "code",
   "execution_count": 2,
   "metadata": {},
   "outputs": [],
   "source": [
    "AUTOTUNE = tf.data.experimental.AUTOTUNE\n",
    "image_size = [64,64]\n",
    "batch_size = 32\n",
    "epoch = 10"
   ]
  },
  {
   "cell_type": "code",
   "execution_count": 3,
   "metadata": {},
   "outputs": [],
   "source": [
    "def train_data():\n",
    "    tf.keras.preprocessing.image_dataset_from_directory(\n",
    "    '../Alz_data/train/',\n",
    "    validation_split=0.2,\n",
    "    subset=\"training\",\n",
    "    seed=123,\n",
    "    image_size=image_size,\n",
    "    batch_size=batch_size,)"
   ]
  },
  {
   "cell_type": "code",
   "execution_count": null,
   "metadata": {},
   "outputs": [],
   "source": [
    "train_data = train_data()"
   ]
  },
  {
   "cell_type": "code",
   "execution_count": null,
   "metadata": {},
   "outputs": [],
   "source": [
    "print(train_data)"
   ]
  },
  {
   "cell_type": "code",
   "execution_count": null,
   "metadata": {},
   "outputs": [],
   "source": [
    "train_data = init_data('train_data', '../Alz_data/train/', 'training', 123, [64,64], 32)"
   ]
  },
  {
   "cell_type": "code",
   "execution_count": null,
   "metadata": {},
   "outputs": [],
   "source": [
    "val_data = init_data('val_data', '../Alz_data/train/', 'validation', 123, [64,64], 32)"
   ]
  },
  {
   "cell_type": "code",
   "execution_count": 4,
   "metadata": {},
   "outputs": [
    {
     "name": "stdout",
     "output_type": "stream",
     "text": [
      "Found 2612 files belonging to 2 classes.\n",
      "Using 2090 files for training.\n"
     ]
    }
   ],
   "source": [
    "train_data = tf.keras.preprocessing.image_dataset_from_directory(\n",
    "    '../Alz_data/train/',\n",
    "    validation_split=0.2,\n",
    "    subset=\"training\",\n",
    "    seed=123,\n",
    "    image_size=image_size,\n",
    "    batch_size=batch_size,\n",
    ")"
   ]
  },
  {
   "cell_type": "code",
   "execution_count": null,
   "metadata": {},
   "outputs": [],
   "source": []
  },
  {
   "cell_type": "code",
   "execution_count": 5,
   "metadata": {},
   "outputs": [
    {
     "name": "stdout",
     "output_type": "stream",
     "text": [
      "Found 2612 files belonging to 2 classes.\n",
      "Using 522 files for validation.\n"
     ]
    }
   ],
   "source": [
    "val_data = tf.keras.preprocessing.image_dataset_from_directory(\n",
    "    '../Alz_data/train',\n",
    "        validation_split=0.2,\n",
    "    subset=\"validation\",\n",
    "    seed=123,\n",
    "    image_size=(64,64),\n",
    "    batch_size=batch_size,\n",
    ")"
   ]
  },
  {
   "cell_type": "code",
   "execution_count": null,
   "metadata": {},
   "outputs": [],
   "source": [
    "print(val_data)"
   ]
  },
  {
   "cell_type": "code",
   "execution_count": 6,
   "metadata": {},
   "outputs": [],
   "source": [
    "class_names = ['ModerateDementia', 'NonDementia']\n",
    "train_data.class_names = class_names\n",
    "val_data.class_names = class_names\n",
    "\n",
    "NUM_CLASSES = len(class_names)"
   ]
  },
  {
   "cell_type": "code",
   "execution_count": null,
   "metadata": {},
   "outputs": [],
   "source": []
  },
  {
   "cell_type": "code",
   "execution_count": 7,
   "metadata": {},
   "outputs": [],
   "source": [
    "def conv_block(filters):\n",
    "    block = tf.keras.Sequential([\n",
    "        tf.keras.layers.SeparableConv2D(filters, 3, activation='relu', padding='same'),\n",
    "        tf.keras.layers.SeparableConv2D(filters, 3, activation='relu', padding='same'),\n",
    "        tf.keras.layers.BatchNormalization(),\n",
    "        tf.keras.layers.MaxPool2D()\n",
    "    ]\n",
    "    )\n",
    "    \n",
    "    return block"
   ]
  },
  {
   "cell_type": "code",
   "execution_count": 8,
   "metadata": {},
   "outputs": [],
   "source": [
    "def dense_block(units, dropout_rate):\n",
    "    block = tf.keras.Sequential([\n",
    "        tf.keras.layers.Dense(units, activation='relu'),\n",
    "        tf.keras.layers.BatchNormalization(),\n",
    "        tf.keras.layers.Dropout(dropout_rate)\n",
    "    ])\n",
    "    \n",
    "    return block"
   ]
  },
  {
   "cell_type": "code",
   "execution_count": 80,
   "metadata": {},
   "outputs": [],
   "source": [
    "def build_model():\n",
    "    model = tf.keras.Sequential([\n",
    "        tf.keras.layers.experimental.preprocessing.Rescaling(1./255),\n",
    "        tf.keras.Input(shape=(*image_size, 3)),\n",
    "        \n",
    "        tf.keras.layers.Conv2D(16, 3, activation='relu', padding='same'),\n",
    "        tf.keras.layers.Conv2D(16, 3, activation='relu', padding='same'),\n",
    "        tf.keras.layers.MaxPool2D(),\n",
    "        \n",
    "        conv_block(32),\n",
    "        conv_block(64),\n",
    "        \n",
    "        conv_block(128),\n",
    "        tf.keras.layers.Dropout(0.2),\n",
    "        \n",
    "       # conv_block(256),\n",
    "       # tf.keras.layers.Dropout(0.2),\n",
    "        \n",
    "        tf.keras.layers.Flatten(),\n",
    "       # dense_block(512, 0.7),\n",
    "        dense_block(128, 0.5),\n",
    "        dense_block(64, 0.3),\n",
    "        \n",
    "        tf.keras.layers.Dense(1, activation='sigmoid')\n",
    "    ])\n",
    "    \n",
    "    return model"
   ]
  },
  {
   "cell_type": "code",
   "execution_count": 81,
   "metadata": {},
   "outputs": [
    {
     "name": "stdout",
     "output_type": "stream",
     "text": [
      "Model: \"sequential_53\"\n",
      "_________________________________________________________________\n",
      "Layer (type)                 Output Shape              Param #   \n",
      "=================================================================\n",
      "rescaling_4 (Rescaling)      (None, 64, 64, 3)         0         \n",
      "_________________________________________________________________\n",
      "input_8 (InputLayer)         multiple                  0         \n",
      "_________________________________________________________________\n",
      "sequential_48 (Sequential)   (None, 32, 32, 32)        1627      \n",
      "_________________________________________________________________\n",
      "sequential_49 (Sequential)   (None, 16, 16, 64)        7392      \n",
      "_________________________________________________________________\n",
      "sequential_50 (Sequential)   (None, 8, 8, 128)         27072     \n",
      "_________________________________________________________________\n",
      "dropout_27 (Dropout)         (None, 8, 8, 128)         0         \n",
      "_________________________________________________________________\n",
      "flatten_7 (Flatten)          (None, 8192)              0         \n",
      "_________________________________________________________________\n",
      "sequential_51 (Sequential)   (None, 128)               1049216   \n",
      "_________________________________________________________________\n",
      "sequential_52 (Sequential)   (None, 64)                8512      \n",
      "_________________________________________________________________\n",
      "dense_27 (Dense)             (None, 1)                 65        \n",
      "=================================================================\n",
      "Total params: 1,093,884\n",
      "Trainable params: 1,093,052\n",
      "Non-trainable params: 832\n",
      "_________________________________________________________________\n"
     ]
    }
   ],
   "source": [
    "model.summary()"
   ]
  },
  {
   "cell_type": "code",
   "execution_count": 82,
   "metadata": {},
   "outputs": [],
   "source": [
    "model = build_model()\n",
    "\n",
    "METRICS = [\n",
    "        'accuracy',\n",
    "        tf.keras.metrics.Precision(name='precision'),\n",
    "        tf.keras.metrics.Recall(name='recall'), \n",
    "        tf.keras.metrics.FalseNegatives()\n",
    "    ]\n",
    "    \n",
    "model.compile(\n",
    "        optimizer='adam',\n",
    "        loss=tf.losses.BinaryCrossentropy(),\n",
    "        metrics=METRICS\n",
    "    )"
   ]
  },
  {
   "cell_type": "code",
   "execution_count": 83,
   "metadata": {},
   "outputs": [],
   "source": [
    "def exponential_decay(lr0, s):\n",
    "    def exponential_decay_fn(epoch):\n",
    "        return lr0 * 0.1 **(epoch / s)\n",
    "    return exponential_decay_fn\n",
    "\n",
    "exponential_decay_fn = exponential_decay(0.01, 20)\n",
    "\n",
    "lr_scheduler = tf.keras.callbacks.LearningRateScheduler(exponential_decay_fn)\n",
    "\n"
   ]
  },
  {
   "cell_type": "code",
   "execution_count": 84,
   "metadata": {},
   "outputs": [
    {
     "name": "stdout",
     "output_type": "stream",
     "text": [
      "Epoch 1/10\n",
      "66/66 [==============================] - 17s 263ms/step - accuracy: 0.5861 - false_negatives_7: 847.0000 - recall: 0.5870 - precision: 0.9853 - loss: 0.7396 - val_recall: 1.0000 - val_precision: 0.9751 - val_loss: 0.5841 - val_false_negatives_7: 0.0000e+00 - val_accuracy: 0.9751\n",
      "Epoch 2/10\n",
      "66/66 [==============================] - 17s 255ms/step - accuracy: 0.7775 - false_negatives_7: 437.0000 - recall: 0.7869 - precision: 0.9829 - loss: 0.4793 - val_recall: 1.0000 - val_precision: 0.9751 - val_loss: 0.5033 - val_false_negatives_7: 0.0000e+00 - val_accuracy: 0.9751\n",
      "Epoch 3/10\n",
      "66/66 [==============================] - 17s 251ms/step - accuracy: 0.9091 - false_negatives_7: 156.0000 - recall: 0.9239 - precision: 0.9824 - loss: 0.3150 - val_recall: 1.0000 - val_precision: 0.9751 - val_loss: 0.4048 - val_false_negatives_7: 0.0000e+00 - val_accuracy: 0.9751\n",
      "Epoch 4/10\n",
      "66/66 [==============================] - 17s 251ms/step - accuracy: 0.9569 - false_negatives_7: 52.0000 - recall: 0.9746 - precision: 0.9813 - loss: 0.2132 - val_recall: 1.0000 - val_precision: 0.9751 - val_loss: 0.2637 - val_false_negatives_7: 0.0000e+00 - val_accuracy: 0.9751\n",
      "Epoch 5/10\n",
      "66/66 [==============================] - 18s 273ms/step - accuracy: 0.9727 - false_negatives_7: 18.0000 - recall: 0.9912 - precision: 0.9812 - loss: 0.1709 - val_recall: 1.0000 - val_precision: 0.9751 - val_loss: 0.1698 - val_false_negatives_7: 0.0000e+00 - val_accuracy: 0.9751\n",
      "Epoch 6/10\n",
      "66/66 [==============================] - 17s 257ms/step - accuracy: 0.9770 - false_negatives_7: 11.0000 - recall: 0.9946 - precision: 0.9822 - loss: 0.1330 - val_recall: 1.0000 - val_precision: 0.9751 - val_loss: 0.1214 - val_false_negatives_7: 0.0000e+00 - val_accuracy: 0.9751\n",
      "Epoch 7/10\n",
      "66/66 [==============================] - 18s 277ms/step - accuracy: 0.9789 - false_negatives_7: 5.0000 - recall: 0.9976 - precision: 0.9813 - loss: 0.1189 - val_recall: 1.0000 - val_precision: 0.9751 - val_loss: 0.1174 - val_false_negatives_7: 0.0000e+00 - val_accuracy: 0.9751\n",
      "Epoch 8/10\n",
      "66/66 [==============================] - 16s 242ms/step - accuracy: 0.9785 - false_negatives_7: 6.0000 - recall: 0.9971 - precision: 0.9813 - loss: 0.1133 - val_recall: 1.0000 - val_precision: 0.9751 - val_loss: 0.1448 - val_false_negatives_7: 0.0000e+00 - val_accuracy: 0.9751\n",
      "Epoch 9/10\n",
      "66/66 [==============================] - 16s 245ms/step - accuracy: 0.9794 - false_negatives_7: 5.0000 - recall: 0.9976 - precision: 0.9818 - loss: 0.1018 - val_recall: 1.0000 - val_precision: 0.9751 - val_loss: 0.1491 - val_false_negatives_7: 0.0000e+00 - val_accuracy: 0.9751\n",
      "Epoch 10/10\n",
      "66/66 [==============================] - 16s 244ms/step - accuracy: 0.9809 - false_negatives_7: 2.0000 - recall: 0.9990 - precision: 0.9818 - loss: 0.0990 - val_recall: 1.0000 - val_precision: 0.9751 - val_loss: 0.1436 - val_false_negatives_7: 0.0000e+00 - val_accuracy: 0.9751\n"
     ]
    }
   ],
   "source": [
    "history = model.fit(\n",
    "    train_data,\n",
    "    validation_data=val_data,\n",
    "#     callbacks=[lr_scheduler],\n",
    "    epochs=epoch\n",
    ")"
   ]
  },
  {
   "cell_type": "code",
   "execution_count": 117,
   "metadata": {},
   "outputs": [],
   "source": [
    "def graph_():\n",
    "    acc = history.history['accuracy']\n",
    "    val_acc = history.history['val_accuracy']\n",
    "    recall = history.history['recall']\n",
    "    precision = history.history['precision']\n",
    "    false_neg = history.history['false_negatives_7']\n",
    "    loss = history.history['loss']\n",
    "    val_loss = history.history['val_loss']\n",
    "\n",
    "    epochs_range = range(epoch)\n",
    "\n",
    "    plt.figure(figsize=(8,8))\n",
    "#     plt.subplot(1, 3, 1)\n",
    "    plt.plot(epochs_range, acc, label='Training Accuracy')\n",
    "    plt.plot(epochs_range, recall, label='Recall')\n",
    "    plt.plot(epochs_range, precision, label='Precision')\n",
    "    plt.legend(loc='lower right')\n",
    "    plt.xlabel('Epochs')\n",
    "    plt.ylabel('Percentage Increased')\n",
    "    plt.title('Performance Metrics')\n",
    "    \n",
    "def graph_loss():\n",
    "    plt.subplot(1, 3, 2)\n",
    "    plt.plot(epochs_range, loss, label='Training Loss') \n",
    "    plt.plot(epochs_range, val_loss, label='Validation Loss')\n",
    "    plt.legend(loc='upper right')\n",
    "    plt.xlabel('Epochs')\n",
    "    plt.ylabel('Percentage Decreased')\n",
    "    plt.title('Loss')\n",
    "    \n",
    "def graph_false_negs():    \n",
    "    plt.subplot(1, 3, 3)\n",
    "    plt.plot(epochs_range, false_neg, label='False Negative Loss')\n",
    "    plt.legend(loc='upper right')\n",
    "    plt.xlabel('Epochs')\n",
    "    plt.ylabel('Number of False Negative Loss')\n",
    "    plt.title('FN Loss')\n",
    "    plt.savefig('../images/accuray_loss.jpg')\n",
    "    plt.tight_layout()\n",
    "\n",
    "    plt.show()"
   ]
  },
  {
   "cell_type": "code",
   "execution_count": 118,
   "metadata": {},
   "outputs": [
    {
     "data": {
      "image/png": "[encoded data removed]",
      "text/plain": [
       "<Figure size 720x720 with 3 Axes>"
      ]
     },
     "metadata": {
      "needs_background": "light"
     },
     "output_type": "display_data"
    }
   ],
   "source": [
    "graph_model()"
   ]
  },
  {
   "cell_type": "code",
   "execution_count": 157,
   "metadata": {},
   "outputs": [],
   "source": [
    "def graph():\n",
    "    acc = history.history['accuracy']\n",
    "    val_acc = history.history['val_accuracy']\n",
    "    recall = history.history['recall']\n",
    "    precision = history.history['precision']\n",
    "    false_neg = history.history['false_negatives_7']\n",
    "    loss = history.history['loss']\n",
    "    val_loss = history.history['val_loss']\n",
    "\n",
    "    epochs_range = range(epoch)\n",
    "\n",
    "    plt.figure(figsize=(8,8))\n",
    "#     plt.subplot(1, 3, 1)\n",
    "    plt.plot(epochs_range, acc, label='Training Accuracy')\n",
    "    plt.plot(epochs_range, recall, label='Training Recall')\n",
    "    plt.plot(epochs_range, precision, label='Training Precision')\n",
    "    plt.legend(loc='lower right')\n",
    "    plt.xlabel('Epochs')\n",
    "    plt.ylabel('Percentage Increased')\n",
    "    plt.title('Training Performance Metrics')\n",
    "    plt.savefig('../images/performance.jpg')\n",
    "    plt.tight_layout()\n",
    "    plt.show()"
   ]
  },
  {
   "cell_type": "code",
   "execution_count": 158,
   "metadata": {},
   "outputs": [
    {
     "data": {
      "image/png": "[encoded data removed]",
      "text/plain": [
       "<Figure size 576x576 with 1 Axes>"
      ]
     },
     "metadata": {
      "needs_background": "light"
     },
     "output_type": "display_data"
    }
   ],
   "source": [
    "graph()"
   ]
  },
  {
   "cell_type": "code",
   "execution_count": null,
   "metadata": {},
   "outputs": [],
   "source": [
    "def graph():\n",
    "    acc = history.history['accuracy']\n",
    "    val_acc = history.history['val_accuracy']\n",
    "    recall = history.history['recall']\n",
    "    precision = history.history['precision']\n",
    "    false_neg = history.history['false_negatives_7']\n",
    "    loss = history.history['loss']\n",
    "    val_loss = history.history['val_loss']\n",
    "\n",
    "    epochs_range = range(epoch)\n",
    "\n",
    "    plt.figure(figsize=(8,8))\n",
    "#     plt.subplot(1, 3, 1)\n",
    "    plt.plot(epochs_range, acc, label='Training Accuracy')\n",
    "    plt.plot(epochs_range, recall, label='Training Recall')\n",
    "    plt.plot(epochs_range, precision, label='Training Precision')\n",
    "    plt.legend(loc='lower right')\n",
    "    plt.xlabel('Epochs')\n",
    "    plt.ylabel('Percentage Increased')\n",
    "    plt.title('Training Performance Metrics')\n",
    "    plt.savefig('../images/performance.jpg')\n",
    "    plt.tight_layout()\n",
    "    plt.show()"
   ]
  },
  {
   "cell_type": "code",
   "execution_count": 162,
   "metadata": {},
   "outputs": [],
   "source": [
    "def graph_loss():\n",
    "    acc = history.history['accuracy']\n",
    "    val_acc = history.history['val_accuracy']\n",
    "    recall = history.history['recall']\n",
    "    precision = history.history['precision']\n",
    "    false_neg = history.history['false_negatives_7']\n",
    "    loss = history.history['loss']\n",
    "    val_loss = history.history['val_loss']\n",
    "\n",
    "    epochs_range = range(epoch)\n",
    "    plt.figure(figsize=(8,8))\n",
    "    plt.subplot(1, 3, 2)\n",
    "    plt.plot(epochs_range, loss, label='Training Loss') \n",
    "    plt.plot(epochs_range, val_loss, label='Validation Loss')\n",
    "    plt.legend(loc='upper right')\n",
    "    plt.xlabel('Epochs')\n",
    "    plt.ylabel('Percentage Decreased')\n",
    "    plt.title('Loss')\n",
    "    plt.savefig('../images/loss.jpg')\n",
    "    plt.tight_layout()\n",
    "    plt.show()"
   ]
  },
  {
   "cell_type": "code",
   "execution_count": 163,
   "metadata": {},
   "outputs": [
    {
     "data": {
      "image/png": "[encoded data removed]",
      "text/plain": [
       "<Figure size 576x576 with 1 Axes>"
      ]
     },
     "metadata": {
      "needs_background": "light"
     },
     "output_type": "display_data"
    }
   ],
   "source": [
    "graph_loss()"
   ]
  },
  {
   "cell_type": "code",
   "execution_count": 164,
   "metadata": {},
   "outputs": [],
   "source": [
    "def graph_false_negs():    \n",
    "    acc = history.history['accuracy']\n",
    "    val_acc = history.history['val_accuracy']\n",
    "    recall = history.history['recall']\n",
    "    precision = history.history['precision']\n",
    "    false_neg = history.history['false_negatives_7']\n",
    "    loss = history.history['loss']\n",
    "    val_loss = history.history['val_loss']\n",
    "\n",
    "    epochs_range = range(epoch)\n",
    "\n",
    "    plt.figure(figsize=(8,8))\n",
    "    plt.subplot(1, 3, 3)\n",
    "    plt.plot(epochs_range, false_neg, label='False Negative Loss')\n",
    "    plt.legend(loc='upper right')\n",
    "    plt.xlabel('Epochs')\n",
    "    plt.ylabel('Number of False Negative Loss')\n",
    "    plt.title('FN Loss')\n",
    "    plt.savefig('../images/false_negs.jpg')\n",
    "    plt.tight_layout()\n",
    "\n",
    "    plt.show()"
   ]
  },
  {
   "cell_type": "code",
   "execution_count": 165,
   "metadata": {},
   "outputs": [
    {
     "data": {
      "image/png": "[encoded data removed]",
      "text/plain": [
       "<Figure size 576x576 with 1 Axes>"
      ]
     },
     "metadata": {
      "needs_background": "light"
     },
     "output_type": "display_data"
    }
   ],
   "source": [
    "graph_false_negs()"
   ]
  },
  {
   "cell_type": "code",
   "execution_count": 75,
   "metadata": {},
   "outputs": [
    {
     "name": "stdout",
     "output_type": "stream",
     "text": [
      "Found 652 files belonging to 2 classes.\n"
     ]
    }
   ],
   "source": [
    "test_data = tf.keras.preprocessing.image_dataset_from_directory(\n",
    "    '../Alz_data/test/',\n",
    "    image_size=image_size,\n",
    "    batch_size=batch_size,\n",
    ")\n"
   ]
  },
  {
   "cell_type": "code",
   "execution_count": 147,
   "metadata": {},
   "outputs": [
    {
     "name": "stdout",
     "output_type": "stream",
     "text": [
      "21/21 [==============================] - 2s 90ms/step - accuracy: 0.9816 - false_negatives_7: 0.0000e+00 - recall: 1.0000 - precision: 0.9816 - loss: 0.1106\n"
     ]
    }
   ],
   "source": [
    "test_loss, test_acc, test_precision, test_recall, test_false = model.evaluate(test_data)"
   ]
  },
  {
   "cell_type": "code",
   "execution_count": 156,
   "metadata": {},
   "outputs": [
    {
     "name": "stdout",
     "output_type": "stream",
     "text": [
      "\n",
      "Test accuracy: 0.98 \n",
      "Test recall: 1.00 \n",
      "Test precision: 0.98 \n",
      "Test False Negatives: 0.00 \n",
      "Test loss: 0.11\n"
     ]
    }
   ],
   "source": [
    "print('\\nTest accuracy: {:.2f}'.format(test_acc),\n",
    "     '\\nTest recall: {:.2f}'.format(test_recall),\n",
    "     '\\nTest precision: {:.2f}'.format(test_precision),\n",
    "      '\\nTest False Negatives: {:.2f}'.format(test_false),\n",
    "     '\\nTest loss: {:.2f}'.format(test_loss))"
   ]
  },
  {
   "cell_type": "code",
   "execution_count": 152,
   "metadata": {},
   "outputs": [
    {
     "name": "stdout",
     "output_type": "stream",
     "text": [
      "0.98\n"
     ]
    }
   ],
   "source": [
    "format_float = \"{:.2f}\".format(test_acc)\n",
    "print(format_float)"
   ]
  },
  {
   "cell_type": "code",
   "execution_count": 144,
   "metadata": {},
   "outputs": [],
   "source": [
    "# model2 = tf.keras.Sequential([\n",
    "#     tf.keras.layers.experimental.preprocessing.Rescaling(1./255),\n",
    "#     tf.keras.Input(shape=(*image_size, 3)),\n",
    "#     tf.keras.layers.Flatten(input_shape=(64,64)),\n",
    "#     tf.keras.layers.Dense(128, activation='relu'),\n",
    "#     tf.keras.layers.Dense(10, activation='softmax')\n",
    "# ])\n",
    "\n",
    "\n",
    "\n",
    "# model2.compile(\n",
    "#     optimizer='adam',\n",
    "#     loss = 'sparse_categorical_crossentropy',\n",
    "#     metrics = ['accuracy'])\n",
    "\n",
    "# simple = model2.fit(train_data, validation_data=val_data, epochs=epoch)\n",
    "\n",
    "# test_loss, test_acc = model.evaluate(train_data)\n",
    "\n",
    "# print('\\nTest accuracy:', test_acc)"
   ]
  },
  {
   "cell_type": "code",
   "execution_count": null,
   "metadata": {},
   "outputs": [],
   "source": [
    "\n",
    "# test_data = test_data.cache().prefetch(buffer_size=AUTOTUNE)"
   ]
  },
  {
   "cell_type": "code",
   "execution_count": null,
   "metadata": {},
   "outputs": [],
   "source": [
    "print(test_data)"
   ]
  },
  {
   "cell_type": "code",
   "execution_count": null,
   "metadata": {},
   "outputs": [],
   "source": [
    "test_loss, test_acc = model.evaluate(test_data)"
   ]
  },
  {
   "cell_type": "code",
   "execution_count": null,
   "metadata": {},
   "outputs": [],
   "source": []
  },
  {
   "cell_type": "code",
   "execution_count": null,
   "metadata": {},
   "outputs": [],
   "source": []
  },
  {
   "cell_type": "code",
   "execution_count": null,
   "metadata": {},
   "outputs": [],
   "source": []
  },
  {
   "cell_type": "code",
   "execution_count": null,
   "metadata": {},
   "outputs": [],
   "source": []
  },
  {
   "cell_type": "code",
   "execution_count": null,
   "metadata": {},
   "outputs": [],
   "source": []
  },
  {
   "cell_type": "code",
   "execution_count": null,
   "metadata": {},
   "outputs": [],
   "source": []
  },
  {
   "cell_type": "code",
   "execution_count": null,
   "metadata": {},
   "outputs": [],
   "source": [
    "acc = history.history['accuracy']\n",
    "val_acc = history.history['val_accuracy']\n",
    "\n",
    "loss = history.history['loss']\n",
    "val_loss = history.history['val_accuracy']\n",
    "\n",
    "epochs_range = range(epoch)\n",
    "\n",
    "plt.figure(figsize=(8, 8))\n",
    "plt.subplot(1, 2, 1)\n",
    "plt.plot(epochs_range, acc, label='Training Accuracy')\n",
    "plt.plot(epochs_range, val_acc, label='Validation Accuracy')\n",
    "plt.legend(loc='lower right')\n",
    "plt.title('Training and Validation Accuracy')\n",
    "\n",
    "plt.subplot(1, 2, 2)\n",
    "plt.plot(epochs_range, loss, label='Training Loss')\n",
    "plt.plot(epochs_range, val_loss, label='Validation Loss')\n",
    "plt.legend(loc='upper right')\n",
    "plt.title('Training and Validation Loss')\n",
    "plt.show()"
   ]
  },
  {
   "cell_type": "code",
   "execution_count": null,
   "metadata": {},
   "outputs": [],
   "source": []
  },
  {
   "cell_type": "code",
   "execution_count": null,
   "metadata": {},
   "outputs": [],
   "source": []
  },
  {
   "cell_type": "code",
   "execution_count": null,
   "metadata": {},
   "outputs": [],
   "source": []
  },
  {
   "cell_type": "code",
   "execution_count": null,
   "metadata": {},
   "outputs": [],
   "source": []
  },
  {
   "cell_type": "code",
   "execution_count": null,
   "metadata": {},
   "outputs": [],
   "source": []
  },
  {
   "cell_type": "code",
   "execution_count": null,
   "metadata": {},
   "outputs": [],
   "source": []
  },
  {
   "cell_type": "code",
   "execution_count": null,
   "metadata": {},
   "outputs": [],
   "source": []
  },
  {
   "cell_type": "code",
   "execution_count": null,
   "metadata": {},
   "outputs": [],
   "source": []
  }
 ],
 "metadata": {
  "kernelspec": {
   "display_name": "Python 3",
   "language": "python",
   "name": "python3"
  },
  "language_info": {
   "codemirror_mode": {
    "name": "ipython",
    "version": 3
   },
   "file_extension": ".py",
   "mimetype": "text/x-python",
   "name": "python",
   "nbconvert_exporter": "python",
   "pygments_lexer": "ipython3",
   "version": "3.5.2"
  }
 },
 "nbformat": 4,
 "nbformat_minor": 2
}
